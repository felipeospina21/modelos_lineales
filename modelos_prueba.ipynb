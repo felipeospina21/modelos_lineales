{
  "nbformat": 4,
  "nbformat_minor": 0,
  "metadata": {
    "colab": {
      "name": "Untitled0.ipynb",
      "provenance": [],
      "collapsed_sections": [],
      "include_colab_link": true
    },
    "kernelspec": {
      "name": "python3",
      "display_name": "Python 3"
    }
  },
  "cells": [
    {
      "cell_type": "markdown",
      "metadata": {
        "id": "view-in-github",
        "colab_type": "text"
      },
      "source": [
        "<a href=\"https://colab.research.google.com/github/felipeospina21/modelos_lineales/blob/master/modelos_prueba.ipynb\" target=\"_parent\"><img src=\"https://colab.research.google.com/assets/colab-badge.svg\" alt=\"Open In Colab\"/></a>"
      ]
    },
    {
      "cell_type": "code",
      "metadata": {
        "id": "goBsdkdwdfgk",
        "colab_type": "code",
        "colab": {
          "base_uri": "https://localhost:8080/",
          "height": 204
        },
        "outputId": "92f61ad7-eb4d-4088-c67d-901d8cd08f4f"
      },
      "source": [
        "!pip install pulp"
      ],
      "execution_count": 1,
      "outputs": [
        {
          "output_type": "stream",
          "text": [
            "Collecting pulp\n",
            "\u001b[?25l  Downloading https://files.pythonhosted.org/packages/2d/33/3ae6d9d2ac8c7068937af6372fd8828ac605e62a8b17106fe57110930d38/PuLP-1.6.10.zip (13.6MB)\n",
            "\u001b[K     |████████████████████████████████| 13.6MB 165kB/s \n",
            "\u001b[?25hRequirement already satisfied: pyparsing>=2.0.1 in /usr/local/lib/python3.6/dist-packages (from pulp) (2.4.4)\n",
            "Building wheels for collected packages: pulp\n",
            "  Building wheel for pulp (setup.py) ... \u001b[?25l\u001b[?25hdone\n",
            "  Created wheel for pulp: filename=PuLP-1.6.10-cp36-none-any.whl size=12269903 sha256=47336ce3e4b9ce4c1fef4679f56d2d34751e0f5e1a6bb9d9a3065103b7d99d89\n",
            "  Stored in directory: /root/.cache/pip/wheels/5e/76/77/e28b22219e46e3b4b033f02e8b36b2770ae545bdcf60c2b224\n",
            "Successfully built pulp\n",
            "Installing collected packages: pulp\n",
            "Successfully installed pulp-1.6.10\n"
          ],
          "name": "stdout"
        }
      ]
    },
    {
      "cell_type": "code",
      "metadata": {
        "id": "3p84dxz0fCij",
        "colab_type": "code",
        "colab": {}
      },
      "source": [
        "from pulp import *"
      ],
      "execution_count": 0,
      "outputs": []
    },
    {
      "cell_type": "code",
      "metadata": {
        "id": "hj6hah7wfPtz",
        "colab_type": "code",
        "colab": {
          "base_uri": "https://localhost:8080/",
          "height": 34
        },
        "outputId": "dd911c7a-e0ee-4639-a46f-851c3089a914"
      },
      "source": [
        "# Crear Modelo\n",
        "modelo = LpProblem('modelo', LpMaximize)\n",
        "\n",
        "# Variables de decisión\n",
        "x1 = LpVariable('Sillas', 0, None, LpContinuous)\n",
        "x2 = LpVariable('Mesas', 0, None, LpContinuous)\n",
        "\n",
        "# Función Objetivo\n",
        "modelo += 12000*x1 + 8000*x2\n",
        "\n",
        "# Restricciones\n",
        "modelo += x1 <= 16\n",
        "modelo += x2 <= 24\n",
        "modelo += x1 + x2 <= 32\n",
        "modelo += 4*x1 + 2*x2 <= 90\n",
        "\n",
        "# Solución\n",
        "modelo.solve()\n"
      ],
      "execution_count": 3,
      "outputs": [
        {
          "output_type": "execute_result",
          "data": {
            "text/plain": [
              "1"
            ]
          },
          "metadata": {
            "tags": []
          },
          "execution_count": 3
        }
      ]
    },
    {
      "cell_type": "code",
      "metadata": {
        "id": "eqqf5ggvj_BU",
        "colab_type": "code",
        "colab": {
          "base_uri": "https://localhost:8080/",
          "height": 34
        },
        "outputId": "99a89924-4098-41b6-83f7-d20b9025ecc6"
      },
      "source": [
        "print(x1.value())"
      ],
      "execution_count": 5,
      "outputs": [
        {
          "output_type": "stream",
          "text": [
            "13.0\n"
          ],
          "name": "stdout"
        }
      ]
    },
    {
      "cell_type": "code",
      "metadata": {
        "id": "4j85DAB5kWRe",
        "colab_type": "code",
        "colab": {
          "base_uri": "https://localhost:8080/",
          "height": 34
        },
        "outputId": "10f7f49e-c619-4164-f8ea-6c8cdf30004a"
      },
      "source": [
        "print(x2.value())"
      ],
      "execution_count": 6,
      "outputs": [
        {
          "output_type": "stream",
          "text": [
            "19.0\n"
          ],
          "name": "stdout"
        }
      ]
    },
    {
      "cell_type": "code",
      "metadata": {
        "id": "yq-1z-FSkvV5",
        "colab_type": "code",
        "colab": {}
      },
      "source": [
        "print(modelo)\n"
      ],
      "execution_count": 0,
      "outputs": []
    },
    {
      "cell_type": "code",
      "metadata": {
        "id": "sYMj2q1rlRqh",
        "colab_type": "code",
        "colab": {
          "base_uri": "https://localhost:8080/",
          "height": 34
        },
        "outputId": "85061f42-0277-4398-a009-9067cb46f49b"
      },
      "source": [
        "# Crear Modelo\n",
        "modelo2 = LpProblem('modelo2', LpMinimize)\n",
        "\n",
        "# Variables de decisión\n",
        "a = LpVariable('A', 0, None, LpContinuous)\n",
        "b = LpVariable('B', 0, None, LpContinuous)\n",
        "\n",
        "# Función Objetivo\n",
        "modelo2 += 2000*a + 4000*b \n",
        "\n",
        "# Restricciones\n",
        "modelo2 += a + b >= 3000\n",
        "modelo2 += a + b <= 4000\n",
        "modelo2 += a <= 2000\n",
        "modelo2 += b <= 4000\n",
        "modelo2 += 90*a + 75*b >= 80*(a+b)\n",
        "\n",
        "# Solución\n",
        "modelo2.solve()"
      ],
      "execution_count": 10,
      "outputs": [
        {
          "output_type": "execute_result",
          "data": {
            "text/plain": [
              "1"
            ]
          },
          "metadata": {
            "tags": []
          },
          "execution_count": 10
        }
      ]
    },
    {
      "cell_type": "code",
      "metadata": {
        "id": "Q8_fb-Sloai5",
        "colab_type": "code",
        "colab": {
          "base_uri": "https://localhost:8080/",
          "height": 51
        },
        "outputId": "2223cb5e-ff96-4c42-a3d3-5491053e3ef9"
      },
      "source": [
        "print('el valor de a = ', a.value())\n",
        "print('el valor de b = ', b.value())"
      ],
      "execution_count": 12,
      "outputs": [
        {
          "output_type": "stream",
          "text": [
            "el valor de a =  2000.0\n",
            "el valor de b =  1000.0\n"
          ],
          "name": "stdout"
        }
      ]
    },
    {
      "cell_type": "code",
      "metadata": {
        "id": "-4dFAE33oiej",
        "colab_type": "code",
        "colab": {}
      },
      "source": [
        ""
      ],
      "execution_count": 0,
      "outputs": []
    }
  ]
}